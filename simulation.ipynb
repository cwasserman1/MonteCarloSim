{
 "cells": [
  {
   "cell_type": "code",
   "execution_count": 17,
   "id": "b8d74664-6d06-4238-be5a-dfbfd5623fa2",
   "metadata": {},
   "outputs": [],
   "source": [
    "import numpy as np\n",
    "import pandas as pd\n",
    "import yfinance as yf"
   ]
  },
  {
   "cell_type": "code",
   "execution_count": 180,
   "id": "1bbb940a-3cd5-4dd8-ba47-b44965b7ddf8",
   "metadata": {},
   "outputs": [],
   "source": [
    "portfolio_tickers = np.array(['PLMR','PRPH','CTXS','PBIP','CIZN','ALK','TM','CAG','TMO','COST','TRU','GS','AMD','MP','CRLBF','DKNG','SQ','SAP','NVDA','TSM','SPCE','PUBM','PLUG','REGI','GEO','BABA','XLV','XBUY','FINX','NURE','PAVE','CNBS','CARZ','URA','HERO','CIBR','VOOG'])"
   ]
  },
  {
   "cell_type": "code",
   "execution_count": 182,
   "id": "af014dc7-bb06-4a0e-ae08-20449e1daa53",
   "metadata": {},
   "outputs": [],
   "source": [
    "def get_portfolio_close(tickers,start_date,end_date):\n",
    "    \"\"\"\n",
    "    Takes list of equity names: e.g: ['GOOG','AAPL','MSFT']\n",
    "    Returns pandas dataframe of all equities in portfolio's close prices within given from (start_date,end_date) \n",
    "    \"\"\"\n",
    "    close_arr = []\n",
    "    for i in tickers:\n",
    "        close_arr.append(yf.Ticker(i).history(start = start_date, end = end_date)['Close'])\n",
    "    closes = pd.DataFrame()\n",
    "    for i in range(len(close_arr)):\n",
    "        closes = pd.concat([closes,close_arr[i]],axis = 1)\n",
    "        closes.columns = tickers[0:i+1]\n",
    "    return closes"
   ]
  },
  {
   "cell_type": "code",
   "execution_count": 83,
   "id": "5724a6cb-5b3c-4488-a839-e6216b53cb6c",
   "metadata": {},
   "outputs": [],
   "source": [
    "def sharpe_ratio(ticker,start_date,end_date,riskfree_rate = 0):\n",
    "    \"\"\"\n",
    "    Function that calculates Sharpe Ratio: SR = E[R_a-R_f]/std_a for equity 'ticker' over a specified time interval\n",
    "    Where R_a is the asset returns, R_f is the risk-free rate, and std_a is the standard deviation of asset returns\n",
    "    \n",
    "    Returns(Float): Daily Sharpe Ratio(Convert to yearly by multiplying by sqrt(252))\n",
    "    \"\"\"\n",
    "    close_prices = ticker.history(start = start_date, end = end_date)['Close'] #df containing all close prices in specifies range\n",
    "    daily_returns = close_prices.pct_change(1).dropna() #df containing daily percent return in range\n",
    "    mean_returns = daily_returns.mean()-riskfree_rate #mean of calulated returns - risk free rate: E[R_a-R_f]\n",
    "    std_returns = daily_returns.std() #standard deviation of calculated returns: std_a\n",
    "    return mean_returns/std_returns"
   ]
  }
 ],
 "metadata": {
  "kernelspec": {
   "display_name": "Python 3 (ipykernel)",
   "language": "python",
   "name": "python3"
  },
  "language_info": {
   "codemirror_mode": {
    "name": "ipython",
    "version": 3
   },
   "file_extension": ".py",
   "mimetype": "text/x-python",
   "name": "python",
   "nbconvert_exporter": "python",
   "pygments_lexer": "ipython3",
   "version": "3.9.7"
  }
 },
 "nbformat": 4,
 "nbformat_minor": 5
}
