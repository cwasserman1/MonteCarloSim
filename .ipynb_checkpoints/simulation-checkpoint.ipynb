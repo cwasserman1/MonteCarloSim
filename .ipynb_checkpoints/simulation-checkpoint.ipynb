{
 "cells": [
  {
   "cell_type": "code",
   "execution_count": 17,
   "id": "b8d74664-6d06-4238-be5a-dfbfd5623fa2",
   "metadata": {},
   "outputs": [],
   "source": [
    "import numpy as np\n",
    "import pandas as pd\n",
    "import yfinance as yf"
   ]
  },
  {
   "cell_type": "code",
   "execution_count": 180,
   "id": "1bbb940a-3cd5-4dd8-ba47-b44965b7ddf8",
   "metadata": {},
   "outputs": [],
   "source": [
    "portfolio_tickers = np.array(['PLMR','PRPH','CTXS','PBIP','CIZN','ALK','TM','CAG','TMO','COST','TRU','GS','AMD','MP','CRLBF','DKNG','SQ','SAP','NVDA','TSM','SPCE','PUBM','PLUG','REGI','GEO','BABA','XLV','XBUY','FINX','NURE','PAVE','CNBS','CARZ','URA','HERO','CIBR','VOOG'])"
   ]
  },
  {
   "cell_type": "code",
   "execution_count": 182,
   "id": "af014dc7-bb06-4a0e-ae08-20449e1daa53",
   "metadata": {},
   "outputs": [],
   "source": [
    "def get_portfolio_close(tickers,start_date,end_date):\n",
    "    \"\"\"\n",
    "    Takes list of equity names: e.g: ['GOOG','AAPL','MSFT']\n",
    "    Returns pandas dataframe of all equities in portfolio's close prices within given from (start_date,end_date) \n",
    "    \"\"\"\n",
    "    close_arr = []\n",
    "    for i in tickers:\n",
    "        close_arr.append(yf.Ticker(i).history(start = start_date, end = end_date)['Close'])\n",
    "    closes = pd.DataFrame()\n",
    "    for i in range(len(close_arr)):\n",
    "        closes = pd.concat([closes,close_arr[i]],axis = 1)\n",
    "        closes.columns = tickers[0:i+1]\n",
    "    return closes"
   ]
  },
  {
   "cell_type": "code",
   "execution_count": 83,
   "id": "5724a6cb-5b3c-4488-a839-e6216b53cb6c",
   "metadata": {},
   "outputs": [],
   "source": [
    "def sharpe_ratio(ticker,start_date,end_date,riskfree_rate = 0):\n",
    "    \"\"\"\n",
    "    Function that calculates Sharpe Ratio: SR = E[R_a-R_f]/std_a for equity 'ticker' over a specified time interval\n",
    "    Where R_a is the asset returns, R_f is the risk-free rate, and std_a is the standard deviation of asset returns\n",
    "    \n",
    "    Returns(Float): Daily Sharpe Ratio(Convert to yearly by multiplying by sqrt(252))\n",
    "    \"\"\"\n",
    "    close_prices = ticker.history(start = start_date, end = end_date)['Close'] #df containing all close prices in specifies range\n",
    "    daily_returns = close_prices.pct_change(1).dropna() #df containing daily percent return in range\n",
    "    mean_returns = daily_returns.mean()-riskfree_rate #mean of calulated returns - risk free rate: E[R_a-R_f]\n",
    "    std_returns = daily_returns.std() #standard deviation of calculated returns: std_a\n",
    "    return mean_returns/std_returns"
   ]
  },
  {
   "cell_type": "code",
   "execution_count": 204,
   "id": "35d33502-64ae-422f-bb70-5776f344e7a7",
   "metadata": {},
   "outputs": [],
   "source": [
    "portfolio_close = get_portfolio_close(['GOOG','MSFT','TSLA','COST'],'2020-01-01','2022-01-01')"
   ]
  },
  {
   "cell_type": "code",
   "execution_count": 228,
   "id": "535f140a-c804-4e6e-a51a-b4337aec6ce9",
   "metadata": {},
   "outputs": [],
   "source": [
    "log_rets = np.log((portfolio_close / portfolio_close.shift(1)))\n",
    "log_rets_cov = log_rets.cov()"
   ]
  },
  {
   "cell_type": "code",
   "execution_count": 229,
   "id": "a994ec3a-3141-46ca-92cd-f7a4eae97734",
   "metadata": {},
   "outputs": [],
   "source": [
    "def calculate_returns(weights,log_returns):\n",
    "    print(f\"Weights {weights} and log returns {log_returns}\")\n",
    "    #return np.sum(log_returns.mean()*weights)*252"
   ]
  },
  {
   "cell_type": "code",
   "execution_count": 230,
   "id": "b27ba516-368d-4bb9-8071-94b7dcd73673",
   "metadata": {},
   "outputs": [],
   "source": [
    "def calculate_volatility(weights,log_return_cov):\n",
    "    annual_cov = np.dot(log_return_cov*252,weights)\n",
    "    vol = np.dot(weights.transpose(),annual_cov)\n",
    "    return np.sqrt(vol)"
   ]
  },
  {
   "cell_type": "code",
   "execution_count": 231,
   "id": "10dac5c4-a80d-4a43-adf6-a1609b56f82b",
   "metadata": {},
   "outputs": [
    {
     "name": "stdout",
     "output_type": "stream",
     "text": [
      "Weights [0.00664636 0.00114893 0.01853402 0.01428625 0.02569498 0.0355962\n",
      " 0.03129262 0.03458704 0.03865555 0.04876825 0.02070529 0.05158674\n",
      " 0.02048134 0.03204862 0.02915191 0.00341305 0.03408913 0.02389603\n",
      " 0.04717294 0.03436109 0.03297475 0.04685888 0.00174358 0.020083\n",
      " 0.04545429 0.00072737 0.04627103 0.0304254  0.00478915 0.03203649\n",
      " 0.00756447 0.00804632 0.04446166 0.02456275 0.04717331 0.03782554\n",
      " 0.01688566] and log returns                 GOOG      MSFT      TSLA      COST\n",
      "2020-01-02       NaN       NaN       NaN       NaN\n",
      "2020-01-03 -0.004919 -0.012530  0.029203  0.000823\n",
      "2020-01-06  0.024358  0.002581  0.019072  0.000274\n",
      "2020-01-07 -0.000624 -0.009160  0.038067 -0.001577\n",
      "2020-01-08  0.007849  0.015803  0.048033  0.011398\n",
      "...              ...       ...       ...       ...\n",
      "2021-12-27  0.006243  0.022921  0.024935  0.023523\n",
      "2021-12-28 -0.010974 -0.003510 -0.005013  0.002074\n",
      "2021-12-29  0.000386  0.002049 -0.002097  0.005528\n",
      "2021-12-30 -0.003432 -0.007721 -0.014700 -0.006822\n",
      "2021-12-31 -0.009103 -0.008881 -0.012750  0.006699\n",
      "\n",
      "[505 rows x 4 columns]\n"
     ]
    }
   ],
   "source": [
    "mc_returns = []\n",
    "mc_volatility = []\n",
    "mc_weights = []\n",
    "\n",
    "for i in range(1):\n",
    "    \n",
    "    weights = np.random.random(len(portfolio_tickers))\n",
    "    weights = weights / np.sum(weights)\n",
    "    mc_weights.append(weights)\n",
    "    sim_returns = calculate_returns(weights,log_rets)\n",
    "    mc_returns.append(sim_returns)\n",
    "    sim_volatility = calculate_volatility(weights,log_rets_cov)\n",
    "    mc_volatility.append(sim_volatility)"
   ]
  },
  {
   "cell_type": "code",
   "execution_count": 232,
   "id": "694cf1d5-d380-489e-b646-223b7ec50e33",
   "metadata": {},
   "outputs": [],
   "source": [
    "def run_monte_carlo(num_sims):\n",
    "    pass"
   ]
  },
  {
   "cell_type": "code",
   "execution_count": null,
   "id": "b68c084e-6d10-495a-a0a8-ca137385ee90",
   "metadata": {},
   "outputs": [],
   "source": []
  }
 ],
 "metadata": {
  "kernelspec": {
   "display_name": "Python 3 (ipykernel)",
   "language": "python",
   "name": "python3"
  },
  "language_info": {
   "codemirror_mode": {
    "name": "ipython",
    "version": 3
   },
   "file_extension": ".py",
   "mimetype": "text/x-python",
   "name": "python",
   "nbconvert_exporter": "python",
   "pygments_lexer": "ipython3",
   "version": "3.9.7"
  }
 },
 "nbformat": 4,
 "nbformat_minor": 5
}
